{
  "nbformat": 4,
  "nbformat_minor": 0,
  "metadata": {
    "colab": {
      "provenance": []
    },
    "kernelspec": {
      "name": "python3",
      "display_name": "Python 3"
    },
    "language_info": {
      "name": "python"
    }
  },
  "cells": [
    {
      "cell_type": "code",
      "execution_count": 1,
      "metadata": {
        "id": "f13xXGAhAbfP"
      },
      "outputs": [],
      "source": [
        "import numpy as np\n",
        "from collections import Counter\n",
        "\n",
        "def entropy(y):\n",
        "    hist = np.bincount(y)\n",
        "    ps = hist / len(y)\n",
        "    return -np.sum([p * np.log2(p) for p in ps if p > 0])\n",
        "\n",
        "class Node:\n",
        "    def __init__(\n",
        "        self, feature=None, threshold=None, left=None, right=None, *, value=None\n",
        "    ):\n",
        "        self.feature = feature\n",
        "        self.threshold = threshold\n",
        "        self.left = left\n",
        "        self.right = right\n",
        "        self.value = value\n",
        "\n",
        "    def is_leaf_node(self):\n",
        "        return self.value is not None\n",
        "\n",
        "\n",
        "class DT:\n",
        "    def __init__(self, min_samples_split=1, max_depth=1, n_feats=None):\n",
        "        self.min_samples_split = min_samples_split\n",
        "        self.max_depth = max_depth\n",
        "        self.n_feats = n_feats\n",
        "        self.root = None\n",
        "\n",
        "    def fit(self, X, y):\n",
        "        self.n_feats = X.shape[1] if not self.n_feats else min(self.n_feats, X.shape[1])\n",
        "        self.root = self._grow_tree(X, y)\n",
        "\n",
        "    def predict(self, X):\n",
        "        return np.array([self._traverse_tree(x, self.root) for x in X])\n",
        "\n",
        "    def _grow_tree(self, X, y, depth=0):\n",
        "        n_samples, n_features = X.shape\n",
        "        n_labels = len(np.unique(y))\n",
        "\n",
        "        if (\n",
        "            depth >= self.max_depth\n",
        "            or n_labels == 1\n",
        "            or n_samples < self.min_samples_split\n",
        "        ):\n",
        "            leaf_value = self._most_common_label(y)\n",
        "            return Node(value=leaf_value)\n",
        "\n",
        "        feat_idxs = np.random.choice(n_features, self.n_feats, replace=False)\n",
        "        best_feat, best_thresh = self._best_criteria(X, y, feat_idxs)\n",
        "        left_idxs, right_idxs = self._split(X[:, best_feat], best_thresh)\n",
        "        left = self._grow_tree(X[left_idxs, :], y[left_idxs], depth + 1)\n",
        "        right = self._grow_tree(X[right_idxs, :], y[right_idxs], depth + 1)\n",
        "        return Node(best_feat, best_thresh, left, right)\n",
        "\n",
        "    def _best_criteria(self, X, y, feat_idxs):\n",
        "        best_gain = -1\n",
        "        split_idx, split_thresh = None, None\n",
        "        for feat_idx in feat_idxs:\n",
        "            X_column = X[:, feat_idx]\n",
        "            thresholds = np.unique(X_column)\n",
        "            for threshold in thresholds:\n",
        "                gain = self._information_gain(y, X_column, threshold)\n",
        "\n",
        "                if gain > best_gain:\n",
        "                    best_gain = gain\n",
        "                    split_idx = feat_idx\n",
        "                    split_thresh = threshold\n",
        "\n",
        "        return split_idx, split_thresh\n",
        "\n",
        "    def _information_gain(self, y, X_column, split_thresh):\n",
        "        parent_entropy = entropy(y)\n",
        "        left_idxs, right_idxs = self._split(X_column, split_thresh)\n",
        "\n",
        "        if len(left_idxs) == 0 or len(right_idxs) == 0:\n",
        "            return 0\n",
        "        n = len(y)\n",
        "        n_l, n_r = len(left_idxs), len(right_idxs)\n",
        "        e_l, e_r = entropy(y[left_idxs]), entropy(y[right_idxs])\n",
        "        child_entropy = (n_l / n) * e_l + (n_r / n) * e_r\n",
        "        ig = parent_entropy - child_entropy\n",
        "        return ig\n",
        "\n",
        "    def _split(self, X_column, split_thresh):\n",
        "        left_idxs = np.argwhere(X_column <= split_thresh).flatten()\n",
        "        right_idxs = np.argwhere(X_column > split_thresh).flatten()\n",
        "        return left_idxs, right_idxs\n",
        "\n",
        "    def _traverse_tree(self, x, node):\n",
        "        if node.is_leaf_node():\n",
        "            return node.value\n",
        "\n",
        "        if x[node.feature] <= node.threshold:\n",
        "            return self._traverse_tree(x, node.left)\n",
        "        return self._traverse_tree(x, node.right)\n",
        "\n",
        "    def _most_common_label(self, y):\n",
        "        counter = Counter(y)\n",
        "        most_common = counter.most_common(1)[0][0]\n",
        "        return most_common\n",
        "\n",
        "class ADA:\n",
        "    def __init__(self, n_estimators=50):\n",
        "        self.n_estimators = n_estimators\n",
        "        self.models = []\n",
        "        self.alphas = []\n",
        "\n",
        "    def fit(self, X, y):\n",
        "        n_samples = len(X)\n",
        "        weights = np.ones(n_samples) / n_samples\n",
        "\n",
        "        for _ in range(self.n_estimators):\n",
        "            model = DT()\n",
        "            model.fit(X, y)\n",
        "\n",
        "            predictions = model.predict(X)\n",
        "\n",
        "            err = np.sum(weights * (predictions != y))\n",
        "\n",
        "            alpha = 0.5 * np.log((1 - err) / (err + 1e-10))\n",
        "\n",
        "            weights *= np.exp(-alpha * y * predictions)\n",
        "            weights /= np.sum(weights)\n",
        "\n",
        "            self.models.append(model)\n",
        "            self.alphas.append(alpha)\n",
        "\n",
        "    def predict(self, X):\n",
        "        preds = np.zeros(len(X))\n",
        "        for model, alpha in zip(self.models, self.alphas):\n",
        "            preds += alpha * model.predict(X)\n",
        "        return np.sign(preds)"
      ]
    },
    {
      "cell_type": "markdown",
      "source": [
        "# Dataset 1"
      ],
      "metadata": {
        "id": "JfqsdhCxGgps"
      }
    },
    {
      "cell_type": "code",
      "source": [
        "import pandas as pd\n",
        "\n",
        "dataset = pd.read_csv(\"/content/project1_dataset1.txt\", sep=\"\\t\")\n",
        "x = dataset.iloc[:, :-1].values\n",
        "y = dataset.iloc[:, -1].values"
      ],
      "metadata": {
        "id": "231pM_WrA2Nj"
      },
      "execution_count": 2,
      "outputs": []
    },
    {
      "cell_type": "code",
      "source": [
        "x"
      ],
      "metadata": {
        "colab": {
          "base_uri": "https://localhost:8080/"
        },
        "id": "eHhKCT8mBfgl",
        "outputId": "92276e7e-1be7-40a6-e02f-6ed951673dac"
      },
      "execution_count": 3,
      "outputs": [
        {
          "output_type": "execute_result",
          "data": {
            "text/plain": [
              "array([[1.245e+01, 1.570e+01, 8.257e+01, ..., 1.741e-01, 3.985e-01,\n",
              "        1.244e-01],\n",
              "       [1.126e+01, 1.996e+01, 7.372e+01, ..., 9.314e-02, 2.955e-01,\n",
              "        7.009e-02],\n",
              "       [1.143e+01, 1.539e+01, 7.306e+01, ..., 8.476e-02, 2.676e-01,\n",
              "        6.765e-02],\n",
              "       ...,\n",
              "       [1.450e+01, 1.089e+01, 9.428e+01, ..., 1.221e-01, 2.889e-01,\n",
              "        8.006e-02],\n",
              "       [1.236e+01, 1.854e+01, 7.901e+01, ..., 8.442e-02, 2.983e-01,\n",
              "        7.185e-02],\n",
              "       [1.193e+01, 2.153e+01, 7.653e+01, ..., 7.247e-02, 2.438e-01,\n",
              "        8.541e-02]])"
            ]
          },
          "metadata": {},
          "execution_count": 3
        }
      ]
    },
    {
      "cell_type": "code",
      "source": [
        "y"
      ],
      "metadata": {
        "colab": {
          "base_uri": "https://localhost:8080/"
        },
        "id": "Z6shjKYTBgUZ",
        "outputId": "1d5419a0-3467-41e6-863b-17b1484bbfaf"
      },
      "execution_count": 4,
      "outputs": [
        {
          "output_type": "execute_result",
          "data": {
            "text/plain": [
              "array([1, 0, 0, 0, 1, 0, 0, 1, 1, 1, 0, 0, 1, 0, 0, 0, 0, 0, 0, 0, 0, 0,\n",
              "       1, 0, 0, 0, 0, 0, 0, 1, 0, 1, 1, 1, 1, 1, 1, 1, 1, 0, 0, 0, 0, 1,\n",
              "       0, 0, 0, 1, 0, 1, 1, 0, 1, 0, 0, 1, 0, 0, 0, 0, 1, 1, 0, 0, 1, 1,\n",
              "       0, 1, 0, 0, 0, 0, 0, 0, 1, 1, 0, 0, 0, 0, 0, 0, 0, 0, 0, 0, 1, 1,\n",
              "       0, 0, 0, 0, 0, 1, 0, 0, 0, 1, 0, 0, 0, 1, 0, 1, 0, 1, 0, 1, 1, 1,\n",
              "       0, 0, 0, 0, 0, 1, 0, 1, 0, 1, 1, 1, 1, 0, 0, 0, 0, 0, 1, 0, 0, 0,\n",
              "       0, 0, 0, 1, 0, 0, 0, 0, 0, 0, 0, 0, 1, 0, 0, 1, 0, 0, 0, 0, 0, 0,\n",
              "       0, 0, 0, 0, 0, 1, 0, 0, 0, 1, 0, 0, 0, 0, 1, 1, 1, 1, 0, 0, 0, 0,\n",
              "       0, 1, 0, 1, 0, 0, 0, 1, 0, 1, 0, 1, 1, 1, 1, 0, 0, 0, 0, 0, 0, 1,\n",
              "       0, 1, 0, 0, 1, 0, 0, 0, 0, 0, 0, 0, 1, 1, 0, 0, 0, 0, 1, 1, 0, 1,\n",
              "       0, 0, 1, 1, 0, 1, 0, 0, 1, 0, 1, 0, 0, 1, 0, 0, 1, 0, 0, 1, 0, 1,\n",
              "       1, 0, 0, 0, 0, 1, 1, 0, 0, 0, 0, 0, 0, 0, 1, 1, 1, 0, 1, 0, 1, 0,\n",
              "       0, 1, 1, 0, 0, 0, 0, 1, 0, 0, 0, 0, 1, 1, 1, 0, 0, 0, 0, 0, 0, 1,\n",
              "       0, 0, 0, 0, 1, 1, 1, 0, 0, 1, 0, 0, 0, 1, 0, 0, 0, 1, 1, 0, 1, 0,\n",
              "       0, 1, 0, 0, 0, 0, 1, 1, 1, 0, 0, 0, 1, 1, 0, 0, 0, 1, 0, 0, 1, 0,\n",
              "       0, 1, 1, 1, 1, 1, 1, 1, 1, 1, 1, 0, 1, 0, 1, 1, 0, 0, 0, 0, 1, 1,\n",
              "       0, 0, 1, 0, 0, 0, 0, 0, 0, 1, 1, 0, 1, 1, 0, 0, 1, 0, 1, 0, 0, 0,\n",
              "       1, 0, 0, 1, 0, 0, 1, 1, 0, 1, 0, 1, 0, 0, 1, 0, 1, 0, 0, 0, 1, 1,\n",
              "       0, 0, 0, 1, 1, 0, 1, 0, 1, 0, 0, 1, 0, 0, 0, 0, 1, 0, 0, 0, 1, 0,\n",
              "       0, 0, 0, 0, 0, 0, 1, 0, 1, 0, 0, 1, 1, 0, 1, 1, 0, 0, 0, 0, 0, 0,\n",
              "       0, 0, 0, 0, 0, 0, 0, 0, 0, 1, 1, 0, 0, 0, 0, 0, 0, 0, 0, 1, 1, 1,\n",
              "       1, 1, 1, 1, 1, 1, 0, 1, 0, 1, 0, 0, 0, 1, 1, 1, 0, 0, 1, 1, 1, 0,\n",
              "       0, 1, 0, 1, 0, 0, 1, 0, 1, 0, 0, 1, 0, 0, 0, 1, 1, 1, 0, 0, 1, 1,\n",
              "       0, 1, 1, 1, 0, 1, 0, 1, 0, 1, 0, 0, 1, 1, 0, 0, 0, 1, 0, 1, 1, 0,\n",
              "       0, 1, 0, 1, 1, 0, 0, 0, 1, 0, 0, 0, 0, 0, 0, 0, 1, 1, 0, 1, 1, 0,\n",
              "       0, 0, 1, 1, 1, 0, 1, 1, 0, 0, 0, 1, 1, 0, 0, 0, 0, 0])"
            ]
          },
          "metadata": {},
          "execution_count": 4
        }
      ]
    },
    {
      "cell_type": "code",
      "source": [
        "from sklearn.model_selection import train_test_split\n",
        "x_train, x_test, y_train, y_test = train_test_split(x, y, test_size = 0.1, random_state = 1)"
      ],
      "metadata": {
        "id": "Pw1XCUF0Bhp5"
      },
      "execution_count": 5,
      "outputs": []
    },
    {
      "cell_type": "code",
      "source": [
        "from sklearn.preprocessing import StandardScaler\n",
        "sc = StandardScaler()\n",
        "x_train = sc.fit_transform(x_train)\n",
        "x_test = sc.transform(x_test)"
      ],
      "metadata": {
        "id": "E3sIkIZHCSSG"
      },
      "execution_count": 6,
      "outputs": []
    },
    {
      "cell_type": "code",
      "source": [
        "x_train"
      ],
      "metadata": {
        "colab": {
          "base_uri": "https://localhost:8080/"
        },
        "id": "w9iAmXXBCcxK",
        "outputId": "a4ad6dec-071f-4df9-dfd0-691016c27c3e"
      },
      "execution_count": 7,
      "outputs": [
        {
          "output_type": "execute_result",
          "data": {
            "text/plain": [
              "array([[ 0.99066707,  0.92372376,  1.11661305, ...,  1.2841721 ,\n",
              "        -0.96350722,  2.09762058],\n",
              "       [ 2.60015848,  1.69074393,  2.7529165 , ...,  2.3925318 ,\n",
              "         0.48551869,  0.19672436],\n",
              "       [ 1.54225024,  0.89616614,  1.52261315, ...,  1.02700859,\n",
              "        -0.5192685 , -0.43727208],\n",
              "       ...,\n",
              "       [-1.02049004, -0.16020895, -1.02165417, ..., -0.73583978,\n",
              "        -1.1056636 , -0.3061004 ],\n",
              "       [ 0.24107968, -0.12346547,  0.24883908, ..., -0.45356147,\n",
              "        -0.07341438,  0.44595055],\n",
              "       [ 0.49565653,  1.06610475,  0.48915834, ..., -0.03473083,\n",
              "        -0.14287716, -1.15598356]])"
            ]
          },
          "metadata": {},
          "execution_count": 7
        }
      ]
    },
    {
      "cell_type": "code",
      "source": [
        "x_test"
      ],
      "metadata": {
        "colab": {
          "base_uri": "https://localhost:8080/"
        },
        "id": "Hvip0BLoCeJi",
        "outputId": "ae73f8dd-7dc7-429b-e6a9-f769a5e01f0c"
      },
      "execution_count": 8,
      "outputs": [
        {
          "output_type": "execute_result",
          "data": {
            "text/plain": [
              "array([[-0.53396539, -1.1982123 , -0.53281364, ..., -0.34302627,\n",
              "        -0.35611174,  0.23061038],\n",
              "       [-0.61033845,  0.33353158, -0.57013284, ...,  0.01940885,\n",
              "        -0.6985794 ,  0.86296717],\n",
              "       [-0.81399992,  0.1268495 , -0.81332281, ..., -1.4134882 ,\n",
              "         0.63736756, -1.02754463],\n",
              "       ...,\n",
              "       [-1.32739657,  0.54939954, -1.31938758, ..., -1.15060994,\n",
              "        -0.04110611, -0.05359492],\n",
              "       [-1.01483277,  0.86860853, -1.02206427, ..., -1.24761021,\n",
              "        -1.08304782, -0.88817472],\n",
              "       [-0.59619529,  1.2819727 , -0.58079547, ...,  0.09009122,\n",
              "        -0.48211399, -0.082562  ]])"
            ]
          },
          "metadata": {},
          "execution_count": 8
        }
      ]
    },
    {
      "cell_type": "code",
      "source": [
        "y_train"
      ],
      "metadata": {
        "colab": {
          "base_uri": "https://localhost:8080/"
        },
        "id": "YZNndT5uEPNp",
        "outputId": "8b422916-32c9-4327-faf9-1f30fbd46986"
      },
      "execution_count": 9,
      "outputs": [
        {
          "output_type": "execute_result",
          "data": {
            "text/plain": [
              "array([1, 1, 1, 1, 0, 1, 1, 0, 0, 0, 0, 1, 1, 0, 0, 1, 0, 1, 1, 0, 0, 1,\n",
              "       1, 0, 0, 1, 0, 1, 0, 0, 0, 1, 0, 1, 0, 0, 0, 0, 0, 0, 1, 0, 1, 0,\n",
              "       1, 1, 0, 1, 1, 1, 0, 0, 0, 0, 0, 0, 1, 0, 0, 1, 0, 0, 0, 0, 0, 0,\n",
              "       0, 1, 1, 1, 0, 1, 1, 0, 0, 0, 1, 0, 0, 0, 1, 1, 0, 0, 0, 0, 1, 1,\n",
              "       0, 0, 0, 0, 0, 0, 0, 0, 1, 1, 1, 0, 1, 1, 1, 1, 0, 0, 0, 0, 0, 1,\n",
              "       0, 0, 0, 0, 0, 0, 1, 1, 1, 1, 1, 0, 0, 0, 1, 0, 1, 0, 1, 1, 1, 0,\n",
              "       1, 0, 0, 0, 0, 0, 0, 1, 1, 0, 0, 0, 1, 1, 1, 1, 1, 1, 1, 1, 0, 0,\n",
              "       0, 0, 0, 0, 1, 0, 0, 0, 0, 1, 0, 0, 0, 0, 0, 0, 1, 0, 0, 1, 0, 0,\n",
              "       0, 1, 1, 0, 0, 1, 0, 1, 0, 0, 0, 0, 0, 0, 0, 0, 0, 0, 1, 0, 1, 1,\n",
              "       1, 1, 1, 1, 0, 0, 1, 0, 0, 1, 1, 0, 1, 0, 0, 1, 0, 1, 0, 0, 1, 0,\n",
              "       0, 0, 0, 0, 0, 0, 0, 0, 0, 0, 1, 0, 0, 1, 0, 1, 0, 1, 0, 1, 0, 1,\n",
              "       0, 0, 0, 1, 1, 0, 0, 0, 1, 0, 0, 0, 0, 0, 0, 0, 1, 0, 0, 1, 0, 1,\n",
              "       0, 0, 0, 0, 0, 1, 0, 1, 0, 0, 0, 1, 0, 0, 0, 0, 0, 1, 0, 0, 0, 0,\n",
              "       1, 1, 1, 1, 0, 1, 0, 1, 1, 0, 1, 1, 0, 1, 0, 0, 0, 1, 0, 0, 0, 0,\n",
              "       0, 1, 0, 1, 1, 1, 0, 0, 0, 0, 0, 0, 0, 0, 0, 1, 1, 1, 1, 1, 0, 0,\n",
              "       1, 1, 1, 1, 1, 0, 0, 0, 0, 0, 1, 0, 0, 1, 1, 0, 0, 0, 0, 1, 0, 0,\n",
              "       0, 1, 0, 1, 0, 1, 0, 0, 1, 0, 1, 1, 0, 0, 0, 0, 0, 0, 0, 0, 0, 0,\n",
              "       0, 1, 1, 1, 0, 0, 0, 0, 1, 0, 1, 0, 0, 0, 1, 0, 1, 0, 1, 0, 1, 1,\n",
              "       0, 0, 0, 0, 1, 0, 0, 0, 0, 0, 0, 1, 0, 0, 1, 1, 1, 0, 0, 0, 0, 0,\n",
              "       1, 0, 0, 0, 1, 1, 1, 1, 0, 0, 0, 1, 0, 1, 1, 0, 1, 1, 0, 1, 1, 0,\n",
              "       0, 0, 0, 1, 1, 0, 1, 1, 0, 0, 0, 0, 0, 1, 0, 0, 0, 1, 0, 0, 1, 0,\n",
              "       1, 0, 0, 0, 1, 0, 1, 0, 1, 0, 1, 0, 1, 0, 0, 0, 0, 0, 0, 0, 0, 1,\n",
              "       1, 0, 0, 0, 1, 0, 0, 1, 0, 0, 0, 0, 1, 0, 0, 0, 0, 1, 0, 0, 1, 1,\n",
              "       0, 1, 0, 0, 1])"
            ]
          },
          "metadata": {},
          "execution_count": 9
        }
      ]
    },
    {
      "cell_type": "code",
      "source": [
        "y_test"
      ],
      "metadata": {
        "colab": {
          "base_uri": "https://localhost:8080/"
        },
        "id": "YUp-Ed88EPEi",
        "outputId": "4102c7d8-ca44-44f6-ff5a-0f93949850fb"
      },
      "execution_count": 10,
      "outputs": [
        {
          "output_type": "execute_result",
          "data": {
            "text/plain": [
              "array([0, 0, 0, 0, 1, 0, 1, 0, 0, 0, 1, 0, 0, 1, 0, 0, 1, 1, 0, 1, 0, 0,\n",
              "       1, 1, 0, 1, 0, 0, 0, 0, 0, 0, 1, 1, 1, 1, 0, 1, 0, 1, 0, 1, 0, 1,\n",
              "       0, 0, 1, 1, 1, 1, 0, 1, 0, 0, 0, 0, 0])"
            ]
          },
          "metadata": {},
          "execution_count": 10
        }
      ]
    },
    {
      "cell_type": "code",
      "source": [
        "classifier = ADA()\n",
        "\n",
        "classifier.fit(x_train, y_train)"
      ],
      "metadata": {
        "id": "HbrK9UmgCgP-"
      },
      "execution_count": 11,
      "outputs": []
    },
    {
      "cell_type": "code",
      "source": [
        "y_pred = classifier.predict(x_test)"
      ],
      "metadata": {
        "id": "OcaQuiZkDXj7"
      },
      "execution_count": 12,
      "outputs": []
    },
    {
      "cell_type": "code",
      "source": [
        "print(y_pred)\n",
        "# print(np.concatenate((y_pred.reshape(len(y_pred),1), y_test.reshape(len(y_test),1)),1))"
      ],
      "metadata": {
        "colab": {
          "base_uri": "https://localhost:8080/"
        },
        "id": "QBmL-8MsDcj9",
        "outputId": "229c923f-49ba-45f1-d588-d5622e4970f1"
      },
      "execution_count": 13,
      "outputs": [
        {
          "output_type": "stream",
          "name": "stdout",
          "text": [
            "[0. 0. 0. 0. 1. 0. 0. 0. 0. 0. 0. 0. 0. 0. 0. 0. 1. 1. 0. 1. 0. 0. 1. 0.\n",
            " 0. 1. 0. 0. 0. 0. 0. 0. 1. 1. 1. 0. 0. 0. 1. 1. 0. 0. 0. 1. 0. 0. 1. 1.\n",
            " 1. 1. 0. 1. 0. 0. 0. 0. 0.]\n"
          ]
        }
      ]
    },
    {
      "cell_type": "code",
      "source": [
        "from sklearn.metrics import confusion_matrix\n",
        "cm = confusion_matrix(y_test, y_pred)\n",
        "print(cm)"
      ],
      "metadata": {
        "colab": {
          "base_uri": "https://localhost:8080/"
        },
        "id": "RdqcLpIRDk1g",
        "outputId": "203b2916-a058-4c49-86dc-28f324b0fc98"
      },
      "execution_count": 14,
      "outputs": [
        {
          "output_type": "stream",
          "name": "stdout",
          "text": [
            "[[33  1]\n",
            " [ 7 16]]\n"
          ]
        }
      ]
    },
    {
      "cell_type": "code",
      "source": [
        "from sklearn.metrics import accuracy_score, precision_score, recall_score, f1_score\n",
        "\n",
        "def evaluate_model(X, y, model, n_splits=10):\n",
        "    kf = []\n",
        "    fold_size = len(X) // n_splits\n",
        "    remainder = len(X) % n_splits\n",
        "    start = 0\n",
        "    for i in range(n_splits):\n",
        "        if i < remainder:\n",
        "            end = start + fold_size + 1\n",
        "        else:\n",
        "            end = start + fold_size\n",
        "        test_indices = list(range(start, end))\n",
        "        train_indices = list(set(range(len(X))) - set(test_indices))\n",
        "        kf.append((train_indices, test_indices))\n",
        "        start = end\n",
        "\n",
        "    accuracy_scores = []\n",
        "    precision_scores = []\n",
        "    recall_scores = []\n",
        "    f1_scores = []\n",
        "\n",
        "    for train_index, test_index in kf:\n",
        "        X_train, X_test = X[train_index], X[test_index]\n",
        "        y_train, y_test = y[train_index], y[test_index]\n",
        "\n",
        "        model.fit(X_train, y_train)\n",
        "        y_pred = model.predict(X_test)\n",
        "\n",
        "        accuracy_scores.append(accuracy_score(y_test, y_pred))\n",
        "        precision_scores.append(precision_score(y_test, y_pred))\n",
        "        recall_scores.append(recall_score(y_test, y_pred))\n",
        "        f1_scores.append(f1_score(y_test, y_pred))\n",
        "\n",
        "    print(\"Accuracy: {:.2f}\".format(np.mean(accuracy_scores)))\n",
        "    print(\"Precision: {:.2f}\".format(np.mean(precision_scores)))\n",
        "    print(\"Recall: {:.2f}\".format(np.mean(recall_scores)))\n",
        "    print(\"F1 Score: {:.2f}\".format(np.mean(f1_scores)))\n",
        "\n",
        "evaluate_model(x, y, classifier)"
      ],
      "metadata": {
        "colab": {
          "base_uri": "https://localhost:8080/"
        },
        "id": "1aZ_NRGsFXbN",
        "outputId": "bb75ff26-bca1-4175-cbb2-9be64df9834f"
      },
      "execution_count": 15,
      "outputs": [
        {
          "output_type": "stream",
          "name": "stdout",
          "text": [
            "Accuracy: 0.91\n",
            "Precision: 0.85\n",
            "Recall: 0.90\n",
            "F1 Score: 0.87\n"
          ]
        }
      ]
    },
    {
      "cell_type": "markdown",
      "source": [
        "# Dataset 2"
      ],
      "metadata": {
        "id": "LssV896sGc05"
      }
    },
    {
      "cell_type": "code",
      "source": [
        "dataset = pd.read_csv(\"/content/project1_dataset2.txt\", sep=\"\\t\")\n",
        "x = dataset.iloc[:, :-1].values\n",
        "y = dataset.iloc[:, -1].values"
      ],
      "metadata": {
        "id": "yjMaF0ZiGjD4"
      },
      "execution_count": 16,
      "outputs": []
    },
    {
      "cell_type": "code",
      "source": [
        "x"
      ],
      "metadata": {
        "colab": {
          "base_uri": "https://localhost:8080/"
        },
        "id": "1vSRAgRZGoNK",
        "outputId": "b7822dc1-4d61-43b3-cd96-e63951f18832"
      },
      "execution_count": 17,
      "outputs": [
        {
          "output_type": "execute_result",
          "data": {
            "text/plain": [
              "array([[123, 0.05, 4.61, ..., 23.23, 2.78, 16],\n",
              "       [128, 0.5, 3.7, ..., 21.25, 22.73, 28],\n",
              "       [114, 9.6, 2.51, ..., 25.67, 40.63, 46],\n",
              "       ...,\n",
              "       [138, 4.5, 2.85, ..., 24.78, 24.89, 56],\n",
              "       [170, 7.6, 5.5, ..., 37.41, 6.17, 54],\n",
              "       [128, 0.0, 10.58, ..., 28.41, 14.66, 48]], dtype=object)"
            ]
          },
          "metadata": {},
          "execution_count": 17
        }
      ]
    },
    {
      "cell_type": "code",
      "source": [
        "y"
      ],
      "metadata": {
        "colab": {
          "base_uri": "https://localhost:8080/"
        },
        "id": "0FCE9uB6GoxN",
        "outputId": "96e71c3c-54f9-410d-b709-c5b1e41e8be7"
      },
      "execution_count": 18,
      "outputs": [
        {
          "output_type": "execute_result",
          "data": {
            "text/plain": [
              "array([0, 0, 0, 0, 1, 1, 1, 1, 1, 1, 0, 0, 1, 1, 1, 0, 1, 0, 1, 0, 1, 0,\n",
              "       0, 0, 0, 1, 0, 0, 1, 1, 1, 1, 1, 0, 1, 0, 0, 0, 0, 0, 1, 0, 1, 0,\n",
              "       0, 0, 0, 0, 1, 0, 0, 0, 0, 1, 0, 0, 1, 0, 0, 0, 0, 0, 1, 0, 0, 1,\n",
              "       0, 0, 1, 0, 1, 0, 0, 0, 0, 1, 0, 0, 0, 1, 0, 0, 0, 0, 0, 1, 0, 1,\n",
              "       0, 0, 1, 0, 1, 0, 1, 1, 0, 1, 0, 0, 0, 0, 1, 1, 1, 0, 0, 0, 1, 1,\n",
              "       1, 0, 1, 1, 0, 0, 0, 0, 0, 0, 1, 0, 0, 0, 1, 0, 1, 1, 0, 1, 1, 0,\n",
              "       0, 1, 0, 0, 0, 1, 0, 0, 1, 0, 0, 1, 0, 0, 1, 1, 0, 0, 0, 1, 0, 1,\n",
              "       1, 0, 0, 1, 0, 1, 0, 0, 0, 1, 1, 0, 0, 0, 1, 0, 0, 0, 0, 0, 1, 0,\n",
              "       0, 0, 1, 0, 0, 0, 0, 1, 0, 0, 1, 0, 0, 1, 1, 1, 1, 1, 0, 0, 0, 1,\n",
              "       0, 1, 0, 1, 0, 0, 1, 0, 1, 0, 1, 1, 0, 1, 0, 0, 0, 1, 0, 1, 0, 1,\n",
              "       0, 0, 1, 1, 0, 0, 0, 0, 1, 0, 0, 1, 0, 0, 1, 1, 1, 0, 0, 0, 1, 0,\n",
              "       0, 0, 1, 0, 0, 0, 1, 0, 1, 0, 1, 0, 0, 1, 1, 1, 1, 1, 1, 0, 0, 1,\n",
              "       0, 0, 0, 0, 0, 0, 1, 1, 0, 0, 0, 0, 0, 1, 0, 1, 0, 0, 1, 1, 0, 0,\n",
              "       0, 0, 0, 0, 1, 1, 0, 0, 0, 0, 0, 0, 1, 0, 1, 1, 1, 0, 0, 0, 0, 0,\n",
              "       1, 0, 0, 0, 0, 0, 0, 1, 0, 0, 0, 1, 0, 0, 0, 0, 0, 0, 1, 0, 0, 0,\n",
              "       1, 1, 1, 0, 0, 0, 0, 0, 1, 0, 0, 0, 0, 0, 0, 0, 0, 0, 0, 0, 0, 0,\n",
              "       0, 1, 0, 0, 0, 1, 1, 0, 1, 0, 0, 1, 0, 0, 0, 1, 0, 0, 1, 0, 0, 0,\n",
              "       1, 0, 1, 1, 1, 1, 0, 0, 0, 0, 0, 0, 0, 0, 0, 1, 0, 0, 0, 0, 0, 1,\n",
              "       0, 1, 0, 0, 0, 0, 0, 1, 0, 1, 1, 0, 0, 1, 0, 1, 1, 0, 1, 0, 0, 0,\n",
              "       1, 0, 0, 0, 0, 0, 0, 0, 0, 0, 0, 0, 1, 0, 1, 0, 1, 1, 1, 0, 0, 0,\n",
              "       0, 1, 0, 0, 1, 0, 1, 0, 0, 0, 0, 0, 1, 1, 0, 0, 1, 0, 1, 1, 0])"
            ]
          },
          "metadata": {},
          "execution_count": 18
        }
      ]
    },
    {
      "cell_type": "code",
      "source": [
        "x[:,4]"
      ],
      "metadata": {
        "colab": {
          "base_uri": "https://localhost:8080/"
        },
        "id": "47rnTT-QGpSv",
        "outputId": "b50bc75f-6a43-4186-eb6c-857c7691de9b"
      },
      "execution_count": 19,
      "outputs": [
        {
          "output_type": "execute_result",
          "data": {
            "text/plain": [
              "array(['Absent', 'Present', 'Absent', 'Present', 'Present', 'Absent',\n",
              "       'Present', 'Absent', 'Present', 'Absent', 'Present', 'Absent',\n",
              "       'Absent', 'Present', 'Present', 'Present', 'Present', 'Present',\n",
              "       'Present', 'Absent', 'Present', 'Absent', 'Absent', 'Present',\n",
              "       'Present', 'Present', 'Present', 'Absent', 'Present', 'Absent',\n",
              "       'Present', 'Present', 'Absent', 'Absent', 'Present', 'Present',\n",
              "       'Present', 'Absent', 'Absent', 'Absent', 'Absent', 'Absent',\n",
              "       'Present', 'Absent', 'Absent', 'Absent', 'Absent', 'Absent',\n",
              "       'Absent', 'Absent', 'Absent', 'Absent', 'Present', 'Absent',\n",
              "       'Absent', 'Absent', 'Present', 'Present', 'Present', 'Absent',\n",
              "       'Present', 'Absent', 'Present', 'Absent', 'Present', 'Present',\n",
              "       'Absent', 'Absent', 'Absent', 'Present', 'Present', 'Absent',\n",
              "       'Absent', 'Present', 'Present', 'Absent', 'Absent', 'Present',\n",
              "       'Absent', 'Present', 'Absent', 'Absent', 'Present', 'Absent',\n",
              "       'Absent', 'Present', 'Present', 'Absent', 'Present', 'Absent',\n",
              "       'Present', 'Present', 'Present', 'Absent', 'Absent', 'Present',\n",
              "       'Present', 'Absent', 'Absent', 'Present', 'Absent', 'Absent',\n",
              "       'Present', 'Present', 'Present', 'Present', 'Present', 'Absent',\n",
              "       'Present', 'Absent', 'Present', 'Absent', 'Present', 'Absent',\n",
              "       'Present', 'Absent', 'Present', 'Absent', 'Present', 'Absent',\n",
              "       'Present', 'Absent', 'Absent', 'Absent', 'Present', 'Absent',\n",
              "       'Present', 'Present', 'Present', 'Absent', 'Present', 'Present',\n",
              "       'Absent', 'Present', 'Present', 'Absent', 'Absent', 'Present',\n",
              "       'Absent', 'Absent', 'Absent', 'Absent', 'Absent', 'Present',\n",
              "       'Present', 'Present', 'Present', 'Present', 'Absent', 'Present',\n",
              "       'Present', 'Absent', 'Absent', 'Absent', 'Absent', 'Present',\n",
              "       'Absent', 'Present', 'Absent', 'Present', 'Absent', 'Absent',\n",
              "       'Absent', 'Present', 'Present', 'Present', 'Absent', 'Present',\n",
              "       'Present', 'Absent', 'Absent', 'Present', 'Absent', 'Absent',\n",
              "       'Absent', 'Absent', 'Present', 'Present', 'Absent', 'Present',\n",
              "       'Absent', 'Absent', 'Absent', 'Present', 'Absent', 'Absent',\n",
              "       'Present', 'Absent', 'Absent', 'Absent', 'Present', 'Absent',\n",
              "       'Present', 'Present', 'Absent', 'Present', 'Absent', 'Present',\n",
              "       'Absent', 'Present', 'Absent', 'Present', 'Present', 'Absent',\n",
              "       'Absent', 'Absent', 'Absent', 'Absent', 'Present', 'Absent',\n",
              "       'Absent', 'Absent', 'Absent', 'Absent', 'Absent', 'Absent',\n",
              "       'Absent', 'Absent', 'Absent', 'Absent', 'Absent', 'Absent',\n",
              "       'Absent', 'Present', 'Present', 'Present', 'Absent', 'Absent',\n",
              "       'Absent', 'Absent', 'Absent', 'Present', 'Absent', 'Present',\n",
              "       'Absent', 'Absent', 'Present', 'Absent', 'Absent', 'Absent',\n",
              "       'Present', 'Absent', 'Present', 'Absent', 'Present', 'Absent',\n",
              "       'Absent', 'Present', 'Absent', 'Absent', 'Present', 'Absent',\n",
              "       'Absent', 'Present', 'Present', 'Absent', 'Present', 'Present',\n",
              "       'Absent', 'Present', 'Present', 'Absent', 'Absent', 'Present',\n",
              "       'Absent', 'Present', 'Absent', 'Present', 'Present', 'Absent',\n",
              "       'Present', 'Absent', 'Absent', 'Absent', 'Absent', 'Absent',\n",
              "       'Absent', 'Present', 'Present', 'Absent', 'Absent', 'Absent',\n",
              "       'Present', 'Absent', 'Absent', 'Absent', 'Absent', 'Absent',\n",
              "       'Present', 'Absent', 'Absent', 'Absent', 'Absent', 'Absent',\n",
              "       'Absent', 'Absent', 'Absent', 'Present', 'Present', 'Absent',\n",
              "       'Present', 'Absent', 'Absent', 'Present', 'Present', 'Absent',\n",
              "       'Absent', 'Absent', 'Present', 'Present', 'Absent', 'Absent',\n",
              "       'Absent', 'Absent', 'Absent', 'Absent', 'Absent', 'Absent',\n",
              "       'Present', 'Absent', 'Present', 'Absent', 'Absent', 'Present',\n",
              "       'Absent', 'Absent', 'Present', 'Absent', 'Absent', 'Absent',\n",
              "       'Absent', 'Present', 'Present', 'Present', 'Absent', 'Absent',\n",
              "       'Absent', 'Absent', 'Present', 'Present', 'Absent', 'Absent',\n",
              "       'Absent', 'Present', 'Present', 'Absent', 'Present', 'Absent',\n",
              "       'Absent', 'Absent', 'Absent', 'Present', 'Absent', 'Present',\n",
              "       'Present', 'Absent', 'Present', 'Present', 'Present', 'Absent',\n",
              "       'Present', 'Present', 'Absent', 'Present', 'Absent', 'Absent',\n",
              "       'Absent', 'Absent', 'Absent', 'Present', 'Absent', 'Present',\n",
              "       'Absent', 'Absent', 'Absent', 'Absent', 'Present', 'Present',\n",
              "       'Absent', 'Present', 'Absent', 'Absent', 'Absent', 'Absent',\n",
              "       'Present', 'Absent', 'Absent', 'Absent', 'Present', 'Present',\n",
              "       'Present', 'Absent', 'Absent', 'Absent', 'Absent', 'Present',\n",
              "       'Absent', 'Absent', 'Absent', 'Absent', 'Present', 'Absent',\n",
              "       'Present', 'Absent', 'Present', 'Absent', 'Absent', 'Absent',\n",
              "       'Present', 'Present', 'Absent', 'Present', 'Absent', 'Absent',\n",
              "       'Absent', 'Present', 'Absent', 'Absent', 'Present', 'Absent',\n",
              "       'Present', 'Absent', 'Absent', 'Absent', 'Present', 'Absent',\n",
              "       'Absent', 'Absent', 'Absent', 'Absent', 'Absent', 'Absent',\n",
              "       'Present', 'Present', 'Present', 'Absent', 'Absent', 'Absent',\n",
              "       'Present', 'Present', 'Present', 'Present', 'Present', 'Absent',\n",
              "       'Present', 'Absent', 'Present', 'Absent', 'Absent', 'Absent',\n",
              "       'Absent', 'Present', 'Present', 'Present', 'Absent', 'Present',\n",
              "       'Present', 'Present', 'Absent', 'Present', 'Present'], dtype=object)"
            ]
          },
          "metadata": {},
          "execution_count": 19
        }
      ]
    },
    {
      "cell_type": "code",
      "source": [
        "from sklearn.compose import ColumnTransformer\n",
        "from sklearn.preprocessing import OneHotEncoder\n",
        "ct = ColumnTransformer(transformers=[('encoder', OneHotEncoder(), [4])], remainder='passthrough')\n",
        "x = np.array(ct.fit_transform(x))"
      ],
      "metadata": {
        "id": "_MjqZrg_GxHr"
      },
      "execution_count": 20,
      "outputs": []
    },
    {
      "cell_type": "code",
      "source": [
        "x[:,4]"
      ],
      "metadata": {
        "colab": {
          "base_uri": "https://localhost:8080/"
        },
        "id": "x_KqxrOeG7_l",
        "outputId": "2c2afe8c-4586-4f0e-8d6f-79b49f3cffce"
      },
      "execution_count": 21,
      "outputs": [
        {
          "output_type": "execute_result",
          "data": {
            "text/plain": [
              "array([4.61, 3.7, 2.51, 6.38, 4.69, 10.53, 4.01, 6.53, 3.17, 9.78, 2.58,\n",
              "       2.63, 4.82, 7.18, 6.57, 5.09, 2.66, 7.63, 5.73, 5.63, 5.11, 4.75,\n",
              "       1.96, 4.9, 4.89, 4.67, 5.62, 1.87, 6.99, 3.47, 3.12, 8.53, 6.68,\n",
              "       1.71, 3.36, 5.97, 2.19, 5.41, 4.91, 3.17, 5.46, 4.94, 4.89, 4.99,\n",
              "       4.16, 6.08, 7.1, 3.89, 3.17, 7.32, 2.68, 5.56, 4.42, 4.22, 5.9,\n",
              "       2.36, 8.41, 3.65, 4.55, 1.88, 4.79, 2.73, 6.23, 3.96, 3.59, 3.63,\n",
              "       3.66, 5.59, 4.68, 2.44, 7.22, 3.69, 3.84, 4.18, 3.2, 14.16, 3.98,\n",
              "       2.44, 3.66, 6.26, 3.38, 5.9, 7.85, 1.82, 1.77, 8.46, 2.85, 3.57,\n",
              "       6.63, 3.54, 8.29, 3.16, 4.9, 2.81, 6.33, 6.09, 3.22, 10.49, 3.68,\n",
              "       1.96, 2.83, 4.14, 8.49, 11.17, 9.19, 1.86, 5.29, 5.04, 5.08, 6.41,\n",
              "       7.04, 3.3, 2.05, 2.96, 2.51, 2.8, 3.24, 5.05, 2.28, 3.58, 5.59,\n",
              "       3.52, 6.22, 6.13, 8.12, 3.02, 5.21, 5.35, 2.82, 5.05, 4.43, 5.32,\n",
              "       3.57, 8.28, 6.65, 4.37, 1.07, 4.8, 1.94, 3.14, 3.95, 4.66, 3.26,\n",
              "       6.41, 2.43, 1.88, 12.42, 6.06, 8.12, 6.58, 4.31, 5.13, 5.01, 2.95,\n",
              "       4.33, 6.89, 5.13, 4.16, 4.92, 6.95, 3.63, 8.22, 3.57, 5.8, 5.96,\n",
              "       2.7, 4.04, 5.04, 5.1, 2.66, 1.82, 2.4, 6.34, 2.71, 3.58, 3.91,\n",
              "       4.39, 5.55, 5.28, 4.37, 3.69, 6.14, 6.4, 3.18, 4.37, 7.14, 6.76,\n",
              "       2.78, 2.28, 3.08, 6.38, 4.17, 5.63, 5.8, 1.59, 4.04, 4.97, 7.02,\n",
              "       3.3, 4.98, 3.28, 2.72, 3.55, 1.43, 4.13, 3.24, 6.06, 4.64, 5.03,\n",
              "       3.82, 5.98, 4.41, 4.79, 4.89, 2.99, 4.19, 4.15, 5.9, 0.98, 4.16,\n",
              "       3.12, 1.87, 4.02, 3.54, 3.95, 4.81, 5.53, 3.38, 4.41, 3.27, 4.3,\n",
              "       4.82, 3.37, 4.65, 3.79, 3.72, 5.26, 10.19, 3.2, 9.01, 5.98, 4.77,\n",
              "       7.21, 4.55, 4.63, 5.52, 1.8, 7.13, 5.45, 4.03, 5.73, 2.55, 4.32,\n",
              "       3.14, 5.03, 4.23, 3.56, 5.88, 8.07, 5.47, 3.41, 3.31, 7.99, 3.5,\n",
              "       5.38, 3.16, 2.63, 5.91, 4.71, 3.81, 4.44, 3.73, 15.33, 4.31, 3.3,\n",
              "       3.78, 3.58, 5.56, 5.0, 5.24, 1.72, 5.51, 3.9, 4.99, 3.67, 4.96,\n",
              "       5.49, 3.08, 2.01, 2.74, 2.77, 1.74, 4.24, 8.8, 5.91, 2.77, 8.22,\n",
              "       5.08, 3.98, 4.24, 5.81, 2.83, 3.12, 5.09, 5.67, 3.14, 5.76, 4.6,\n",
              "       11.41, 4.87, 8.01, 6.17, 4.64, 2.99, 5.29, 4.37, 4.86, 2.94, 4.69,\n",
              "       3.37, 3.98, 4.19, 3.23, 5.75, 6.03, 5.63, 4.37, 2.33, 7.26, 3.84,\n",
              "       3.95, 1.55, 9.05, 3.95, 3.31, 3.58, 1.88, 6.25, 5.19, 2.76, 4.75,\n",
              "       2.42, 6.49, 2.91, 4.11, 3.95, 4.0, 3.51, 3.2, 2.43, 3.97, 4.26,\n",
              "       2.42, 7.75, 3.83, 4.55, 3.74, 11.89, 3.79, 3.51, 5.24, 7.27, 3.69,\n",
              "       8.55, 3.09, 11.61, 2.44, 6.39, 5.17, 5.28, 4.51, 7.95, 7.41, 2.4,\n",
              "       3.79, 2.58, 7.46, 7.4, 2.39, 7.56, 3.04, 2.28, 3.67, 6.94, 2.7,\n",
              "       6.03, 6.32, 7.24, 3.48, 3.7, 4.17, 3.92, 4.0, 2.98, 3.76, 3.18,\n",
              "       5.97, 4.59, 2.46, 5.86, 3.96, 7.18, 3.4, 9.12, 2.84, 4.44, 7.41,\n",
              "       3.1, 4.19, 2.46, 9.65, 7.39, 2.47, 3.53, 6.62, 5.64, 3.99, 2.79,\n",
              "       7.22, 2.4, 3.57, 4.17, 6.16, 4.34, 4.9, 3.05, 4.12, 3.05, 4.21,\n",
              "       8.03, 4.49, 4.16, 4.75, 2.29, 7.84, 3.29, 4.93, 8.13, 7.67, 5.15,\n",
              "       4.34, 5.58, 2.42, 3.57, 7.03, 3.86, 3.91, 4.99, 2.97, 3.3, 3.88,\n",
              "       2.69, 6.73, 11.32, 2.4, 6.06, 4.59, 2.53, 2.85, 5.5, 10.58],\n",
              "      dtype=object)"
            ]
          },
          "metadata": {},
          "execution_count": 21
        }
      ]
    },
    {
      "cell_type": "code",
      "source": [
        "x_train, x_test, y_train, y_test = train_test_split(x, y, test_size = 0.1, random_state = 1)"
      ],
      "metadata": {
        "id": "OJkwkVADHMq6"
      },
      "execution_count": 22,
      "outputs": []
    },
    {
      "cell_type": "code",
      "source": [
        "sc = StandardScaler()\n",
        "x_train = sc.fit_transform(x_train)\n",
        "x_test = sc.transform(x_test)"
      ],
      "metadata": {
        "id": "Ryn4UPrwG9D0"
      },
      "execution_count": 23,
      "outputs": []
    },
    {
      "cell_type": "code",
      "source": [
        "classifier = ADA()\n",
        "\n",
        "classifier.fit(x_train, y_train)"
      ],
      "metadata": {
        "id": "owZKpZsCHXZG"
      },
      "execution_count": 24,
      "outputs": []
    },
    {
      "cell_type": "code",
      "source": [
        "y_pred = classifier.predict(x_test)"
      ],
      "metadata": {
        "id": "lNPcOTnoHWZt"
      },
      "execution_count": 25,
      "outputs": []
    },
    {
      "cell_type": "code",
      "source": [
        "print(y_pred)"
      ],
      "metadata": {
        "colab": {
          "base_uri": "https://localhost:8080/"
        },
        "id": "sjJXRpl1HOwu",
        "outputId": "52246576-3943-43df-aee6-b617e7b361ba"
      },
      "execution_count": 26,
      "outputs": [
        {
          "output_type": "stream",
          "name": "stdout",
          "text": [
            "[0. 0. 0. 0. 0. 0. 0. 0. 0. 0. 0. 0. 0. 0. 0. 0. 0. 0. 0. 0. 0. 0. 0. 0.\n",
            " 0. 0. 0. 0. 0. 0. 0. 0. 0. 0. 0. 0. 0. 0. 0. 0. 0. 0. 0. 0. 0. 0. 0.]\n"
          ]
        }
      ]
    },
    {
      "cell_type": "code",
      "source": [
        "cm = confusion_matrix(y_test, y_pred)\n",
        "print(cm)"
      ],
      "metadata": {
        "colab": {
          "base_uri": "https://localhost:8080/"
        },
        "id": "_0DJ98UtHfYr",
        "outputId": "fc84c63c-2529-4cf6-9054-0066015b97b5"
      },
      "execution_count": 27,
      "outputs": [
        {
          "output_type": "stream",
          "name": "stdout",
          "text": [
            "[[24  0]\n",
            " [23  0]]\n"
          ]
        }
      ]
    },
    {
      "cell_type": "code",
      "source": [
        "evaluate_model(x, y, classifier)"
      ],
      "metadata": {
        "id": "mobeHeUBHeqH",
        "colab": {
          "base_uri": "https://localhost:8080/"
        },
        "outputId": "ab45fd07-b034-4483-b6d0-a0660d9dcfd1"
      },
      "execution_count": 28,
      "outputs": [
        {
          "output_type": "stream",
          "name": "stderr",
          "text": [
            "/usr/local/lib/python3.10/dist-packages/sklearn/metrics/_classification.py:1344: UndefinedMetricWarning: Precision is ill-defined and being set to 0.0 due to no predicted samples. Use `zero_division` parameter to control this behavior.\n",
            "  _warn_prf(average, modifier, msg_start, len(result))\n",
            "/usr/local/lib/python3.10/dist-packages/sklearn/metrics/_classification.py:1344: UndefinedMetricWarning: Precision is ill-defined and being set to 0.0 due to no predicted samples. Use `zero_division` parameter to control this behavior.\n",
            "  _warn_prf(average, modifier, msg_start, len(result))\n"
          ]
        },
        {
          "output_type": "stream",
          "name": "stdout",
          "text": [
            "Accuracy: 0.67\n",
            "Precision: 0.42\n",
            "Recall: 0.46\n",
            "F1 Score: 0.43\n"
          ]
        }
      ]
    }
  ]
}